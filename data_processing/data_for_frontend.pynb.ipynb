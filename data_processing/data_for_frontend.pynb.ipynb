{
 "cells": [
  {
   "cell_type": "code",
   "execution_count": null,
   "id": "8598b7fe",
   "metadata": {},
   "outputs": [],
   "source": [
    "# get new infections deaths 30 days\n",
    "# groupby country new smoothed days (past 30 days)"
   ]
  },
  {
   "cell_type": "code",
   "execution_count": 73,
   "id": "50e499f5",
   "metadata": {},
   "outputs": [],
   "source": [
    "import tensorflow as tf\n",
    "from tensorflow import keras\n",
    "from keras import layers\n",
    "import matplotlib.pyplot as plt\n",
    "import numpy as np\n",
    "import pandas as pd\n",
    "import seaborn as sns\n",
    "import math"
   ]
  },
  {
   "cell_type": "code",
   "execution_count": 26,
   "id": "a78a001c",
   "metadata": {},
   "outputs": [],
   "source": [
    "file = 'owid-covid-data-large.csv'\n",
    "target = 'total_deaths_per_million'\n",
    "threshhold = 2\n",
    "node_scalar = 4\n",
    "epochs = 5000"
   ]
  },
  {
   "cell_type": "code",
   "execution_count": 115,
   "id": "ee25597b",
   "metadata": {},
   "outputs": [],
   "source": [
    "\n",
    "np.set_printoptions(precision=3, suppress=True)\n",
    "\n",
    "\n",
    "\n",
    "def clean_data(raw_dataset, drop=True, impute=True):\n",
    "\n",
    "    dataset = raw_dataset.copy()\n",
    "    #dataset = dataset.iloc[1:, :]\n",
    "    dataset.isna().sum()\n",
    "    #dataset = dataset.dropna(axis=1, how='all')\n",
    "    #dataset = dataset.dropna(axis=0, thresh=19)\n",
    "    drop_horizontally = [\n",
    "        'people_vaccinated_per_hundred',\n",
    "        'total_boosters_per_hundred',\n",
    "        'stringency_index',\n",
    "        'population_density',\n",
    "        'median_age', # maybe consider imputing \n",
    "        'gdp_per_capita',\n",
    "        'cardiovasc_death_rate',\n",
    "        'diabetes_prevalence',\n",
    "        'female_smokers', #may need to remove missing 34.2%\n",
    "        'male_smokers', # same reasoning ^\n",
    "        'hospital_beds_per_thousand',\n",
    "        'life_expectancy',\n",
    "        'human_development_index'\n",
    "        ]\n",
    "    \n",
    "    \n",
    "    data_to_impute_logically = [\n",
    "        'total_boosters_per_hundred'\n",
    "    ]\n",
    "    dataset = dataset.drop(\n",
    "        ['iso_code',\n",
    "         #'location',\n",
    "         #'continent',\n",
    "         #'date',\n",
    "         'total_cases',\n",
    "         'new_cases',\n",
    "         'new_cases_smoothed',\n",
    "         'total_deaths',\n",
    "         'new_deaths',\n",
    "         'new_deaths_smoothed',\n",
    "         'total_cases_per_million',\n",
    "         'new_cases_smoothed_per_million',\n",
    "         #'total_deaths_per_million',\n",
    "         'new_deaths_per_million',\n",
    "         'new_deaths_smoothed_per_million',\n",
    "         'reproduction_rate',\n",
    "         'icu_patients',\n",
    "         'icu_patients_per_million',\n",
    "         'weekly_icu_admissions',\n",
    "         'weekly_icu_admissions_per_million',\n",
    "         'hosp_patients',\n",
    "         'hosp_patients_per_million',\n",
    "         'weekly_hosp_admissions',\n",
    "         'weekly_hosp_admissions_per_million',\n",
    "         'total_tests',\n",
    "         'new_tests',\n",
    "         'new_tests_smoothed',\n",
    "         'total_tests_per_thousand',\n",
    "         'new_tests_per_thousand',\n",
    "         'new_tests_smoothed',\n",
    "         'new_tests_smoothed_per_thousand',\n",
    "         'positive_rate',\n",
    "         'tests_per_case',\n",
    "         'tests_units',\n",
    "         'total_vaccinations',\n",
    "         'people_vaccinated',\n",
    "         'people_fully_vaccinated',\n",
    "         'total_boosters',\n",
    "         'new_vaccinations',\n",
    "         #'new_vaccinations_smoothed',\n",
    "         'total_vaccinations_per_hundred',\n",
    "         #'people_vaccinated_per_hundred',\n",
    "         'people_fully_vaccinated_per_hundred',\n",
    "         'new_vaccinations_smoothed_per_million',\n",
    "         'new_people_vaccinated_smoothed',\n",
    "         'new_people_vaccinated_smoothed_per_hundred',\n",
    "         'population',\n",
    "         'extreme_poverty',\n",
    "         'handwashing_facilities', #might add back, high correlation\n",
    "         'excess_mortality_cumulative_absolute',\n",
    "         'excess_mortality_cumulative',\n",
    "         'excess_mortality',\n",
    "         'excess_mortality_cumulative_per_million',\n",
    "         'aged_70_older',\n",
    "        ], axis=1)\n",
    "    print(len(dataset.columns))\n",
    "    dataset = pd.get_dummies(\n",
    "        dataset, columns=['continent'], prefix='', prefix_sep='')\n",
    "    if drop:\n",
    "        dataset = dataset.dropna(subset=[target])\n",
    "        dataset = dataset.dropna(subset=drop_horizontally)\n",
    "        #dataset = dataset.dropna(thresh=dataset.shape[1]-threshhold, axis=0)\n",
    "        print(dataset.loc[:, dataset.isna().any()])\n",
    "    #if impute:\n",
    "    #    impute_columns = dataset.columns\n",
    "    #    for column in impute_columns:\n",
    "    #        dataset[column] = dataset[column].fillna(dataset[column].mean())\n",
    "    return (dataset)"
   ]
  },
  {
   "cell_type": "code",
   "execution_count": 116,
   "id": "bec8b866",
   "metadata": {},
   "outputs": [
    {
     "name": "stdout",
     "output_type": "stream",
     "text": [
      "20\n",
      "        new_cases_per_million  new_vaccinations_smoothed\n",
      "2552                  200.020                     5080.0\n",
      "2555                    0.000                     5739.0\n",
      "2556                  396.187                     5709.0\n",
      "2558                  269.730                     6447.0\n",
      "2559                  241.706                     6481.0\n",
      "...                       ...                        ...\n",
      "223292                  0.125                     2889.0\n",
      "223293                  2.126                     4424.0\n",
      "223295                  0.000                     5140.0\n",
      "223297                  0.000                     4037.0\n",
      "223298                  3.251                     3870.0\n",
      "\n",
      "[20753 rows x 2 columns]\n"
     ]
    }
   ],
   "source": [
    "raw_dataset = pd.read_csv(file, na_values='?', comment='\\t', sep=',')\n",
    "dataset = clean_data(raw_dataset)\n",
    "features = len(dataset.index)"
   ]
  },
  {
   "cell_type": "code",
   "execution_count": 119,
   "id": "e0e52b3c",
   "metadata": {},
   "outputs": [
    {
     "name": "stdout",
     "output_type": "stream",
     "text": [
      "Features: 20753\n"
     ]
    }
   ],
   "source": [
    "print(f'Features: {features}')"
   ]
  },
  {
   "cell_type": "code",
   "execution_count": 151,
   "id": "470e55dd",
   "metadata": {},
   "outputs": [],
   "source": [
    "current_date_df = dataset[dataset['date'].iloc[-100] == dataset['date']]"
   ]
  },
  {
   "cell_type": "code",
   "execution_count": 159,
   "id": "0e8f54df",
   "metadata": {},
   "outputs": [],
   "source": [
    "last_thirty_df = dataset[dataset['date'] > '2022-09-01']"
   ]
  },
  {
   "cell_type": "code",
   "execution_count": null,
   "id": "b3e97c96",
   "metadata": {},
   "outputs": [],
   "source": []
  },
  {
   "cell_type": "code",
   "execution_count": null,
   "id": "ef5a535f",
   "metadata": {},
   "outputs": [],
   "source": []
  },
  {
   "cell_type": "code",
   "execution_count": 118,
   "id": "a4f0faca",
   "metadata": {},
   "outputs": [],
   "source": [
    "# find 90th percentile of Stringency, Population Density, Median Age, 65 oldder, gdp, male smoker, \n",
    "# hospital beds, life expenctancy, hdi\n",
    "attributes = [\n",
    "    'new_vaccinations_smoothed', 'people_vaccinated_per_hundred',\n",
    "    'total_boosters_per_hundred', 'stringency_index', 'population_density',\n",
    "    'median_age', 'aged_65_older', 'gdp_per_capita', 'male_smokers',\n",
    "    'hospital_beds_per_thousand', 'life_expectancy', 'human_development_index', \n",
    "    'new_cases_per_million'\n",
    "]"
   ]
  },
  {
   "cell_type": "code",
   "execution_count": 162,
   "id": "4c00d158",
   "metadata": {},
   "outputs": [
    {
     "name": "stdout",
     "output_type": "stream",
     "text": [
      "                               90th Percentile\n",
      "new_vaccinations_smoothed          145990.2000\n",
      "people_vaccinated_per_hundred          90.7300\n",
      "total_boosters_per_hundred             80.4490\n",
      "stringency_index                       37.0400\n",
      "population_density                    547.9452\n",
      "median_age                             45.3000\n",
      "aged_65_older                          20.3960\n",
      "gdp_per_capita                      57410.1660\n",
      "male_smokers                           41.5000\n",
      "hospital_beds_per_thousand              8.0000\n",
      "life_expectancy                        83.5100\n",
      "human_development_index                 0.9400\n",
      "new_cases_per_million                 630.4004\n"
     ]
    }
   ],
   "source": [
    "\n"
   ]
  },
  {
   "cell_type": "code",
   "execution_count": 176,
   "id": "9680fa09",
   "metadata": {},
   "outputs": [],
   "source": [
    "country = 'Thailand'"
   ]
  },
  {
   "cell_type": "code",
   "execution_count": 163,
   "id": "d4298b1e",
   "metadata": {},
   "outputs": [
    {
     "data": {
      "text/plain": [
       "['Albania',\n",
       " 'Algeria',\n",
       " 'Argentina',\n",
       " 'Australia',\n",
       " 'Austria',\n",
       " 'Azerbaijan',\n",
       " 'Bahamas',\n",
       " 'Bahrain',\n",
       " 'Bangladesh',\n",
       " 'Belarus',\n",
       " 'Belgium',\n",
       " 'Bosnia and Herzegovina',\n",
       " 'Botswana',\n",
       " 'Brazil',\n",
       " 'Brunei',\n",
       " 'Cambodia',\n",
       " 'Canada',\n",
       " 'Cape Verde',\n",
       " 'Chile',\n",
       " 'China',\n",
       " 'Colombia',\n",
       " 'Costa Rica',\n",
       " 'Cyprus',\n",
       " 'Czechia',\n",
       " 'Denmark',\n",
       " 'Dominican Republic',\n",
       " 'Ecuador',\n",
       " 'Egypt',\n",
       " 'El Salvador',\n",
       " 'Eswatini',\n",
       " 'Ethiopia',\n",
       " 'Fiji',\n",
       " 'Finland',\n",
       " 'France',\n",
       " 'Gambia',\n",
       " 'Germany',\n",
       " 'Ghana',\n",
       " 'Greece',\n",
       " 'Hungary',\n",
       " 'Iceland',\n",
       " 'India',\n",
       " 'Indonesia',\n",
       " 'Iran',\n",
       " 'Ireland',\n",
       " 'Israel',\n",
       " 'Italy',\n",
       " 'Jamaica',\n",
       " 'Japan',\n",
       " 'Kazakhstan',\n",
       " 'Kenya',\n",
       " 'Kiribati',\n",
       " 'Kuwait',\n",
       " 'Latvia',\n",
       " 'Lebanon',\n",
       " 'Liberia',\n",
       " 'Lithuania',\n",
       " 'Luxembourg',\n",
       " 'Malawi',\n",
       " 'Malaysia',\n",
       " 'Malta',\n",
       " 'Mauritius',\n",
       " 'Mexico',\n",
       " 'Moldova',\n",
       " 'Mongolia',\n",
       " 'Morocco',\n",
       " 'Mozambique',\n",
       " 'Myanmar',\n",
       " 'Nepal',\n",
       " 'Netherlands',\n",
       " 'New Zealand',\n",
       " 'Norway',\n",
       " 'Oman',\n",
       " 'Pakistan',\n",
       " 'Panama',\n",
       " 'Paraguay',\n",
       " 'Philippines',\n",
       " 'Poland',\n",
       " 'Portugal',\n",
       " 'Qatar',\n",
       " 'Russia',\n",
       " 'Saudi Arabia',\n",
       " 'Serbia',\n",
       " 'Seychelles',\n",
       " 'Singapore',\n",
       " 'Slovakia',\n",
       " 'Slovenia',\n",
       " 'South Africa',\n",
       " 'South Korea',\n",
       " 'Spain',\n",
       " 'Sri Lanka',\n",
       " 'Suriname',\n",
       " 'Switzerland',\n",
       " 'Tanzania',\n",
       " 'Thailand',\n",
       " 'Timor',\n",
       " 'Togo',\n",
       " 'Tonga',\n",
       " 'Tunisia',\n",
       " 'Turkey',\n",
       " 'Uganda',\n",
       " 'Ukraine',\n",
       " 'United Arab Emirates',\n",
       " 'United Kingdom',\n",
       " 'United States',\n",
       " 'Uruguay',\n",
       " 'Uzbekistan',\n",
       " 'Vietnam',\n",
       " 'Yemen',\n",
       " 'Zimbabwe']"
      ]
     },
     "execution_count": 163,
     "metadata": {},
     "output_type": "execute_result"
    }
   ],
   "source": [
    "list(dataset['location'].unique())"
   ]
  },
  {
   "cell_type": "code",
   "execution_count": 170,
   "id": "183ed39a",
   "metadata": {},
   "outputs": [
    {
     "name": "stdout",
     "output_type": "stream",
     "text": [
      "          new_cases_per_million  total_deaths_per_million  \\\n",
      "location                                                    \n",
      "Zimbabwe                 11.755                   342.764   \n",
      "\n",
      "          new_vaccinations_smoothed  people_vaccinated_per_hundred  \\\n",
      "location                                                             \n",
      "Zimbabwe                    74788.0                           37.7   \n",
      "\n",
      "          total_boosters_per_hundred  stringency_index  population_density  \\\n",
      "location                                                                     \n",
      "Zimbabwe                        4.51              47.2              42.729   \n",
      "\n",
      "          median_age  aged_65_older  gdp_per_capita  ...  male_smokers  \\\n",
      "location                                             ...                 \n",
      "Zimbabwe        19.6          2.822        1899.775  ...          30.7   \n",
      "\n",
      "          hospital_beds_per_thousand  life_expectancy  \\\n",
      "location                                                \n",
      "Zimbabwe                         1.7            61.49   \n",
      "\n",
      "          human_development_index  Africa  Asia  Europe  North America  \\\n",
      "location                                                                 \n",
      "Zimbabwe                    0.571     1.0   0.0     0.0            0.0   \n",
      "\n",
      "          Oceania  South America  \n",
      "location                          \n",
      "Zimbabwe      0.0            0.0  \n",
      "\n",
      "[1 rows x 23 columns]\n"
     ]
    },
    {
     "name": "stderr",
     "output_type": "stream",
     "text": [
      "/tmp/ipykernel_70446/1066781161.py:1: FutureWarning: The default value of numeric_only in DataFrameGroupBy.mean is deprecated. In a future version, numeric_only will default to False. Either specify numeric_only or select only columns which should be valid for the function.\n",
      "  print(current_date_df.loc[current_date_df['location'] == country].groupby('location').mean())\n"
     ]
    }
   ],
   "source": [
    "print(current_date_df.loc[current_date_df['location'] == country].groupby('location').mean())"
   ]
  },
  {
   "cell_type": "code",
   "execution_count": 194,
   "id": "3823a0c2",
   "metadata": {},
   "outputs": [
    {
     "name": "stderr",
     "output_type": "stream",
     "text": [
      "/tmp/ipykernel_70446/3408023322.py:1: FutureWarning: The default value of numeric_only in DataFrameGroupBy.mean is deprecated. In a future version, numeric_only will default to False. Either specify numeric_only or select only columns which should be valid for the function.\n",
      "  last_thirty_df.loc[last_thirty_df['location'] == country].groupby('location').mean()\n"
     ]
    },
    {
     "data": {
      "text/html": [
       "<div>\n",
       "<style scoped>\n",
       "    .dataframe tbody tr th:only-of-type {\n",
       "        vertical-align: middle;\n",
       "    }\n",
       "\n",
       "    .dataframe tbody tr th {\n",
       "        vertical-align: top;\n",
       "    }\n",
       "\n",
       "    .dataframe thead th {\n",
       "        text-align: right;\n",
       "    }\n",
       "</style>\n",
       "<table border=\"1\" class=\"dataframe\">\n",
       "  <thead>\n",
       "    <tr style=\"text-align: right;\">\n",
       "      <th></th>\n",
       "      <th>new_cases_per_million</th>\n",
       "      <th>total_deaths_per_million</th>\n",
       "      <th>new_vaccinations_smoothed</th>\n",
       "      <th>people_vaccinated_per_hundred</th>\n",
       "      <th>total_boosters_per_hundred</th>\n",
       "      <th>stringency_index</th>\n",
       "      <th>population_density</th>\n",
       "      <th>median_age</th>\n",
       "      <th>aged_65_older</th>\n",
       "      <th>gdp_per_capita</th>\n",
       "      <th>...</th>\n",
       "      <th>male_smokers</th>\n",
       "      <th>hospital_beds_per_thousand</th>\n",
       "      <th>life_expectancy</th>\n",
       "      <th>human_development_index</th>\n",
       "      <th>Africa</th>\n",
       "      <th>Asia</th>\n",
       "      <th>Europe</th>\n",
       "      <th>North America</th>\n",
       "      <th>Oceania</th>\n",
       "      <th>South America</th>\n",
       "    </tr>\n",
       "    <tr>\n",
       "      <th>location</th>\n",
       "      <th></th>\n",
       "      <th></th>\n",
       "      <th></th>\n",
       "      <th></th>\n",
       "      <th></th>\n",
       "      <th></th>\n",
       "      <th></th>\n",
       "      <th></th>\n",
       "      <th></th>\n",
       "      <th></th>\n",
       "      <th></th>\n",
       "      <th></th>\n",
       "      <th></th>\n",
       "      <th></th>\n",
       "      <th></th>\n",
       "      <th></th>\n",
       "      <th></th>\n",
       "      <th></th>\n",
       "      <th></th>\n",
       "      <th></th>\n",
       "      <th></th>\n",
       "    </tr>\n",
       "  </thead>\n",
       "  <tbody>\n",
       "    <tr>\n",
       "      <th>Thailand</th>\n",
       "      <td>13.081517</td>\n",
       "      <td>455.365759</td>\n",
       "      <td>20304.0</td>\n",
       "      <td>79.576897</td>\n",
       "      <td>44.597241</td>\n",
       "      <td>29.63</td>\n",
       "      <td>135.132</td>\n",
       "      <td>40.1</td>\n",
       "      <td>11.373</td>\n",
       "      <td>16277.671</td>\n",
       "      <td>...</td>\n",
       "      <td>38.8</td>\n",
       "      <td>2.1</td>\n",
       "      <td>77.15</td>\n",
       "      <td>0.777</td>\n",
       "      <td>0.0</td>\n",
       "      <td>1.0</td>\n",
       "      <td>0.0</td>\n",
       "      <td>0.0</td>\n",
       "      <td>0.0</td>\n",
       "      <td>0.0</td>\n",
       "    </tr>\n",
       "  </tbody>\n",
       "</table>\n",
       "<p>1 rows × 23 columns</p>\n",
       "</div>"
      ],
      "text/plain": [
       "          new_cases_per_million  total_deaths_per_million  \\\n",
       "location                                                    \n",
       "Thailand              13.081517                455.365759   \n",
       "\n",
       "          new_vaccinations_smoothed  people_vaccinated_per_hundred  \\\n",
       "location                                                             \n",
       "Thailand                    20304.0                      79.576897   \n",
       "\n",
       "          total_boosters_per_hundred  stringency_index  population_density  \\\n",
       "location                                                                     \n",
       "Thailand                   44.597241             29.63             135.132   \n",
       "\n",
       "          median_age  aged_65_older  gdp_per_capita  ...  male_smokers  \\\n",
       "location                                             ...                 \n",
       "Thailand        40.1         11.373       16277.671  ...          38.8   \n",
       "\n",
       "          hospital_beds_per_thousand  life_expectancy  \\\n",
       "location                                                \n",
       "Thailand                         2.1            77.15   \n",
       "\n",
       "          human_development_index  Africa  Asia  Europe  North America  \\\n",
       "location                                                                 \n",
       "Thailand                    0.777     0.0   1.0     0.0            0.0   \n",
       "\n",
       "          Oceania  South America  \n",
       "location                          \n",
       "Thailand      0.0            0.0  \n",
       "\n",
       "[1 rows x 23 columns]"
      ]
     },
     "execution_count": 194,
     "metadata": {},
     "output_type": "execute_result"
    }
   ],
   "source": [
    "last_thirty_df.loc[last_thirty_df['location'] == country].groupby('location').mean()"
   ]
  },
  {
   "cell_type": "code",
   "execution_count": 179,
   "id": "86cd3028",
   "metadata": {},
   "outputs": [
    {
     "name": "stderr",
     "output_type": "stream",
     "text": [
      "/tmp/ipykernel_70446/1788821384.py:1: FutureWarning: The default value of numeric_only in DataFrameGroupBy.mean is deprecated. In a future version, numeric_only will default to False. Either specify numeric_only or select only columns which should be valid for the function.\n",
      "  equal_weighted_country_df = last_thirty_df.groupby('location').mean()\n"
     ]
    }
   ],
   "source": [
    "equal_weighted_country_df = last_thirty_df.groupby('location').mean()"
   ]
  },
  {
   "cell_type": "code",
   "execution_count": 180,
   "id": "59f3b8b8",
   "metadata": {},
   "outputs": [
    {
     "name": "stdout",
     "output_type": "stream",
     "text": [
      "                               90th Percentile\n",
      "new_vaccinations_smoothed        122664.000000\n",
      "people_vaccinated_per_hundred        91.172917\n",
      "total_boosters_per_hundred           72.946094\n",
      "stringency_index                     39.298000\n",
      "population_density                  445.637700\n",
      "median_age                           43.400000\n",
      "aged_65_older                        19.435000\n",
      "gdp_per_capita                    48293.542000\n",
      "male_smokers                         47.000000\n",
      "hospital_beds_per_thousand            6.614000\n",
      "life_expectancy                      82.647000\n",
      "human_development_index               0.931900\n",
      "new_cases_per_million               379.248103\n"
     ]
    }
   ],
   "source": [
    "d = {}\n",
    "for attr in attributes:\n",
    "    percentile = equal_weighted_country_df[attr].quantile(0.90) # 90th percentile\n",
    "    d[attr] = percentile\n",
    "percentile_df = pd.DataFrame.from_dict(d, orient='index', columns=['90th Percentile'])\n",
    "print(percentile_df)"
   ]
  },
  {
   "cell_type": "code",
   "execution_count": 193,
   "id": "a2fe9108",
   "metadata": {},
   "outputs": [
    {
     "data": {
      "text/plain": [
       "'{\"Albania\":{\"new_cases_per_million\":30.476,\"total_deaths_per_million\":1255.6445,\"new_vaccinations_smoothed\":644.5,\"people_vaccinated_per_hundred\":46.81,\"total_boosters_per_hundred\":12.41,\"stringency_index\":11.11,\"population_density\":104.871,\"median_age\":38.0,\"aged_65_older\":13.188,\"gdp_per_capita\":11803.431,\"cardiovasc_death_rate\":304.195,\"diabetes_prevalence\":10.08,\"female_smokers\":7.1,\"male_smokers\":51.2,\"hospital_beds_per_thousand\":2.89,\"life_expectancy\":78.57,\"human_development_index\":0.795,\"Africa\":0.0,\"Asia\":0.0,\"Europe\":1.0,\"North America\":0.0,\"Oceania\":0.0,\"South America\":0.0},\"Algeria\":{\"new_cases_per_million\":0.385,\"total_deaths_per_million\":155.711,\"new_vaccinations_smoothed\":628.0,\"people_vaccinated_per_hundred\":17.75,\"total_boosters_per_hundred\":1.3,\"stringency_index\":45.32,\"population_density\":17.348,\"median_age\":29.1,\"aged_65_older\":6.211,\"gdp_per_capita\":13913.839,\"cardiovasc_death_rate\":278.364,\"diabetes_prevalence\":6.73,\"female_smokers\":0.7,\"male_smokers\":30.4,\"hospital_beds_per_thousand\":1.9,\"life_expectancy\":76.88,\"human_development_index\":0.748,\"Africa\":1.0,\"Asia\":0.0,\"Europe\":0.0,\"North America\":0.0,\"Oceania\":0.0,\"South America\":0.0},\"Argentina\":{\"new_cases_per_million\":26.67592,\"total_deaths_per_million\":2867.15956,\"new_vaccinations_smoothed\":18690.76,\"people_vaccinated_per_hundred\":91.2236,\"total_boosters_per_hundred\":67.5392,\"stringency_index\":13.408,\"population_density\":16.177,\"median_age\":31.9,\"aged_65_older\":11.198,\"gdp_per_capita\":18933.907,\"cardiovasc_death_rate\":191.032,\"diabetes_prevalence\":5.5,\"female_smokers\":16.2,\"male_smokers\":27.7,\"hospital_beds_per_thousand\":5.0,\"life_expectancy\":76.67,\"human_development_index\":0.845,\"Africa\":0.0,\"Asia\":0.0,\"Europe\":0.0,\"North America\":0.0,\"Oceania\":0.0,\"South America\":1.0},\"Australia\":{\"new_cases_per_million\":660.070625,\"total_deaths_per_million\":558.3725,\"new_vaccinations_smoothed\":3543.125,\"people_vaccinated_per_hundred\":86.54125,\"total_boosters_per_hundred\":54.9125,\"stringency_index\":11.11,\"population_density\":3.202,\"median_age\":37.9,\"aged_65_older\":15.504,\"gdp_per_capita\":44648.71,\"cardiovasc_death_rate\":107.791,\"diabetes_prevalence\":5.07,\"female_smokers\":13.0,\"male_smokers\":16.5,\"hospital_beds_per_thousand\":3.84,\"life_expectancy\":83.44,\"human_development_index\":0.944,\"Africa\":0.0,\"Asia\":0.0,\"Europe\":0.0,\"North America\":0.0,\"Oceania\":1.0,\"South America\":0.0},\"Austria\":{\"new_cases_per_million\":838.872,\"total_deaths_per_million\":2320.0960588235,\"new_vaccinations_smoothed\":9191.1176470588,\"people_vaccinated_per_hundred\":77.1867647059,\"total_boosters_per_hundred\":64.2123529412,\"stringency_index\":35.19,\"population_density\":106.749,\"median_age\":44.4,\"aged_65_older\":19.202,\"gdp_per_capita\":45436.686,\"cardiovasc_death_rate\":145.183,\"diabetes_prevalence\":6.35,\"female_smokers\":28.4,\"male_smokers\":30.9,\"hospital_beds_per_thousand\":7.37,\"life_expectancy\":81.54,\"human_development_index\":0.922,\"Africa\":0.0,\"Asia\":0.0,\"Europe\":1.0,\"North America\":0.0,\"Oceania\":0.0,\"South America\":0.0},\"Bahamas\":{\"new_cases_per_million\":40.6958,\"total_deaths_per_million\":2032.331,\"new_vaccinations_smoothed\":143.2,\"people_vaccinated_per_hundred\":42.366,\"total_boosters_per_hundred\":8.384,\"stringency_index\":40.74,\"population_density\":39.497,\"median_age\":34.3,\"aged_65_older\":8.996,\"gdp_per_capita\":27717.847,\"cardiovasc_death_rate\":235.954,\"diabetes_prevalence\":13.17,\"female_smokers\":3.1,\"male_smokers\":20.4,\"hospital_beds_per_thousand\":2.9,\"life_expectancy\":73.92,\"human_development_index\":0.814,\"Africa\":0.0,\"Asia\":0.0,\"Europe\":0.0,\"North America\":1.0,\"Oceania\":0.0,\"South America\":0.0},\"Bahrain\":{\"new_cases_per_million\":208.33115625,\"total_deaths_per_million\":1037.79053125,\"new_vaccinations_smoothed\":125.15625,\"people_vaccinated_per_hundred\":84.7725,\"total_boosters_per_hundred\":68.57,\"stringency_index\":11.11,\"population_density\":1935.907,\"median_age\":32.4,\"aged_65_older\":2.372,\"gdp_per_capita\":43290.705,\"cardiovasc_death_rate\":151.689,\"diabetes_prevalence\":16.52,\"female_smokers\":5.8,\"male_smokers\":37.6,\"hospital_beds_per_thousand\":2.0,\"life_expectancy\":77.29,\"human_development_index\":0.852,\"Africa\":0.0,\"Asia\":1.0,\"Europe\":0.0,\"North America\":0.0,\"Oceania\":0.0,\"South America\":0.0},\"Bangladesh\":{\"new_cases_per_million\":2.3052,\"total_deaths_per_million\":173.2584,\"new_vaccinations_smoothed\":201311.3,\"people_vaccinated_per_hundred\":77.633,\"total_boosters_per_hundred\":26.721,\"stringency_index\":13.89,\"population_density\":1265.036,\"median_age\":27.5,\"aged_65_older\":5.098,\"gdp_per_capita\":3523.984,\"cardiovasc_death_rate\":298.003,\"diabetes_prevalence\":8.38,\"female_smokers\":1.0,\"male_smokers\":44.7,\"hospital_beds_per_thousand\":0.8,\"life_expectancy\":72.59,\"human_development_index\":0.632,\"Africa\":0.0,\"Asia\":1.0,\"Europe\":0.0,\"North America\":0.0,\"Oceania\":0.0,\"South America\":0.0},\"Belarus\":{\"new_cases_per_million\":0.0,\"total_deaths_per_million\":743.148,\"new_vaccinations_smoothed\":23765.0,\"people_vaccinated_per_hundred\":67.865,\"total_boosters_per_hundred\":28.855,\"stringency_index\":5.56,\"population_density\":46.858,\"median_age\":40.3,\"aged_65_older\":14.799,\"gdp_per_capita\":17167.967,\"cardiovasc_death_rate\":443.129,\"diabetes_prevalence\":5.18,\"female_smokers\":10.5,\"male_smokers\":46.1,\"hospital_beds_per_thousand\":11.0,\"life_expectancy\":74.79,\"human_development_index\":0.823,\"Africa\":0.0,\"Asia\":0.0,\"Europe\":1.0,\"North America\":0.0,\"Oceania\":0.0,\"South America\":0.0},\"Belgium\":{\"new_cases_per_million\":165.3519117647,\"total_deaths_per_million\":2809.3743235294,\"new_vaccinations_smoothed\":56340.4705882353,\"people_vaccinated_per_hundred\":79.7238235294,\"total_boosters_per_hundred\":74.4082352941,\"stringency_index\":14.81,\"population_density\":375.564,\"median_age\":41.8,\"aged_65_older\":18.571,\"gdp_per_capita\":42658.576,\"cardiovasc_death_rate\":114.898,\"diabetes_prevalence\":4.29,\"female_smokers\":25.1,\"male_smokers\":31.4,\"hospital_beds_per_thousand\":5.64,\"life_expectancy\":81.63,\"human_development_index\":0.931,\"Africa\":0.0,\"Asia\":0.0,\"Europe\":1.0,\"North America\":0.0,\"Oceania\":0.0,\"South America\":0.0},\"Botswana\":{\"new_cases_per_million\":0.0,\"total_deaths_per_million\":1075.365,\"new_vaccinations_smoothed\":0.0,\"people_vaccinated_per_hundred\":59.735,\"total_boosters_per_hundred\":17.135,\"stringency_index\":1.39,\"population_density\":4.044,\"median_age\":25.8,\"aged_65_older\":3.941,\"gdp_per_capita\":15807.374,\"cardiovasc_death_rate\":237.372,\"diabetes_prevalence\":4.81,\"female_smokers\":5.7,\"male_smokers\":34.4,\"hospital_beds_per_thousand\":1.8,\"life_expectancy\":69.59,\"human_development_index\":0.735,\"Africa\":1.0,\"Asia\":0.0,\"Europe\":0.0,\"North America\":0.0,\"Oceania\":0.0,\"South America\":0.0},\"Brazil\":{\"new_cases_per_million\":35.7599166667,\"total_deaths_per_million\":3196.24136,\"new_vaccinations_smoothed\":108048.08,\"people_vaccinated_per_hundred\":87.138,\"total_boosters_per_hundred\":55.1668,\"stringency_index\":22.22,\"population_density\":25.04,\"median_age\":33.5,\"aged_65_older\":8.552,\"gdp_per_capita\":14103.452,\"cardiovasc_death_rate\":177.961,\"diabetes_prevalence\":8.11,\"female_smokers\":10.1,\"male_smokers\":17.9,\"hospital_beds_per_thousand\":2.2,\"life_expectancy\":75.88,\"human_development_index\":0.765,\"Africa\":0.0,\"Asia\":0.0,\"Europe\":0.0,\"North America\":0.0,\"Oceania\":0.0,\"South America\":1.0},\"Brunei\":{\"new_cases_per_million\":0.0,\"total_deaths_per_million\":505.195,\"new_vaccinations_smoothed\":709.0,\"people_vaccinated_per_hundred\":100.91,\"total_boosters_per_hundred\":74.86,\"stringency_index\":13.9,\"population_density\":81.347,\"median_age\":32.4,\"aged_65_older\":4.591,\"gdp_per_capita\":71809.251,\"cardiovasc_death_rate\":201.285,\"diabetes_prevalence\":12.79,\"female_smokers\":2.0,\"male_smokers\":30.9,\"hospital_beds_per_thousand\":2.7,\"life_expectancy\":75.86,\"human_development_index\":0.838,\"Africa\":0.0,\"Asia\":1.0,\"Europe\":0.0,\"North America\":0.0,\"Oceania\":0.0,\"South America\":0.0},\"Cambodia\":{\"new_cases_per_million\":0.37675,\"total_deaths_per_million\":184.218,\"new_vaccinations_smoothed\":28595.25,\"people_vaccinated_per_hundred\":91.5225,\"total_boosters_per_hundred\":60.9125,\"stringency_index\":20.37,\"population_density\":90.672,\"median_age\":25.6,\"aged_65_older\":4.412,\"gdp_per_capita\":3645.07,\"cardiovasc_death_rate\":270.892,\"diabetes_prevalence\":4.0,\"female_smokers\":2.0,\"male_smokers\":33.7,\"hospital_beds_per_thousand\":0.8,\"life_expectancy\":69.82,\"human_development_index\":0.594,\"Africa\":0.0,\"Asia\":1.0,\"Europe\":0.0,\"North America\":0.0,\"Oceania\":0.0,\"South America\":0.0},\"Canada\":{\"new_cases_per_million\":64.9679411765,\"total_deaths_per_million\":1178.1521764706,\"new_vaccinations_smoothed\":45564.3235294118,\"people_vaccinated_per_hundred\":87.0767647059,\"total_boosters_per_hundred\":64.7670588235,\"stringency_index\":16.6176470588,\"population_density\":4.037,\"median_age\":41.4,\"aged_65_older\":16.984,\"gdp_per_capita\":44017.591,\"cardiovasc_death_rate\":105.599,\"diabetes_prevalence\":7.37,\"female_smokers\":12.0,\"male_smokers\":16.6,\"hospital_beds_per_thousand\":2.5,\"life_expectancy\":82.43,\"human_development_index\":0.929,\"Africa\":0.0,\"Asia\":0.0,\"Europe\":0.0,\"North America\":1.0,\"Oceania\":0.0,\"South America\":0.0},\"Cape Verde\":{\"new_cases_per_million\":1.701,\"total_deaths_per_million\":697.368,\"new_vaccinations_smoothed\":621.5,\"people_vaccinated_per_hundred\":60.645,\"total_boosters_per_hundred\":0.115,\"stringency_index\":19.44,\"population_density\":135.58,\"median_age\":25.7,\"aged_65_older\":4.46,\"gdp_per_capita\":6222.554,\"cardiovasc_death_rate\":182.219,\"diabetes_prevalence\":2.42,\"female_smokers\":2.1,\"male_smokers\":16.5,\"hospital_beds_per_thousand\":2.1,\"life_expectancy\":72.98,\"human_development_index\":0.665,\"Africa\":1.0,\"Asia\":0.0,\"Europe\":0.0,\"North America\":0.0,\"Oceania\":0.0,\"South America\":0.0},\"Chile\":{\"new_cases_per_million\":204.9964482759,\"total_deaths_per_million\":3121.7597586207,\"new_vaccinations_smoothed\":15784.7586206897,\"people_vaccinated_per_hundred\":92.6768965517,\"total_boosters_per_hundred\":138.8403448276,\"stringency_index\":22.7796551724,\"population_density\":24.282,\"median_age\":35.4,\"aged_65_older\":11.087,\"gdp_per_capita\":22767.037,\"cardiovasc_death_rate\":127.993,\"diabetes_prevalence\":8.46,\"female_smokers\":34.2,\"male_smokers\":41.5,\"hospital_beds_per_thousand\":2.11,\"life_expectancy\":80.18,\"human_development_index\":0.851,\"Africa\":0.0,\"Asia\":0.0,\"Europe\":0.0,\"North America\":0.0,\"Oceania\":0.0,\"South America\":1.0},\"China\":{\"new_cases_per_million\":1.091,\"total_deaths_per_million\":3.665,\"new_vaccinations_smoothed\":168857.0,\"people_vaccinated_per_hundred\":91.37,\"total_boosters_per_hundred\":56.51,\"stringency_index\":75.46,\"population_density\":147.674,\"median_age\":38.7,\"aged_65_older\":10.641,\"gdp_per_capita\":15308.712,\"cardiovasc_death_rate\":261.899,\"diabetes_prevalence\":9.74,\"female_smokers\":1.9,\"male_smokers\":48.4,\"hospital_beds_per_thousand\":4.34,\"life_expectancy\":76.91,\"human_development_index\":0.761,\"Africa\":0.0,\"Asia\":1.0,\"Europe\":0.0,\"North America\":0.0,\"Oceania\":0.0,\"South America\":0.0},\"Costa Rica\":{\"new_cases_per_million\":0.0,\"total_deaths_per_million\":1729.351,\"new_vaccinations_smoothed\":7477.0,\"people_vaccinated_per_hundred\":86.75,\"total_boosters_per_hundred\":49.46,\"stringency_index\":11.11,\"population_density\":96.079,\"median_age\":33.6,\"aged_65_older\":9.468,\"gdp_per_capita\":15524.995,\"cardiovasc_death_rate\":137.973,\"diabetes_prevalence\":8.78,\"female_smokers\":6.4,\"male_smokers\":17.4,\"hospital_beds_per_thousand\":1.13,\"life_expectancy\":80.28,\"human_development_index\":0.81,\"Africa\":0.0,\"Asia\":0.0,\"Europe\":0.0,\"North America\":1.0,\"Oceania\":0.0,\"South America\":0.0},\"Czechia\":{\"new_cases_per_million\":203.2681071429,\"total_deaths_per_million\":3895.7836785714,\"new_vaccinations_smoothed\":5471.8571428571,\"people_vaccinated_per_hundred\":66.3503571429,\"total_boosters_per_hundred\":43.1839285714,\"stringency_index\":11.11,\"population_density\":137.176,\"median_age\":43.3,\"aged_65_older\":19.027,\"gdp_per_capita\":32605.906,\"cardiovasc_death_rate\":227.485,\"diabetes_prevalence\":6.82,\"female_smokers\":30.5,\"male_smokers\":38.3,\"hospital_beds_per_thousand\":6.63,\"life_expectancy\":79.38,\"human_development_index\":0.9,\"Africa\":0.0,\"Asia\":0.0,\"Europe\":1.0,\"North America\":0.0,\"Oceania\":0.0,\"South America\":0.0},\"Denmark\":{\"new_cases_per_million\":158.9948235294,\"total_deaths_per_million\":1197.2368235294,\"new_vaccinations_smoothed\":211.9705882353,\"people_vaccinated_per_hundred\":82.1764705882,\"total_boosters_per_hundred\":62.3055882353,\"stringency_index\":11.11,\"population_density\":136.52,\"median_age\":42.3,\"aged_65_older\":19.677,\"gdp_per_capita\":46682.515,\"cardiovasc_death_rate\":114.767,\"diabetes_prevalence\":6.41,\"female_smokers\":19.3,\"male_smokers\":18.8,\"hospital_beds_per_thousand\":2.5,\"life_expectancy\":80.9,\"human_development_index\":0.94,\"Africa\":0.0,\"Asia\":0.0,\"Europe\":1.0,\"North America\":0.0,\"Oceania\":0.0,\"South America\":0.0},\"Egypt\":{\"new_cases_per_million\":0.0,\"total_deaths_per_million\":226.922,\"new_vaccinations_smoothed\":50532.0,\"people_vaccinated_per_hundred\":48.16,\"total_boosters_per_hundred\":7.64,\"stringency_index\":35.19,\"population_density\":97.999,\"median_age\":25.3,\"aged_65_older\":5.159,\"gdp_per_capita\":10550.206,\"cardiovasc_death_rate\":525.432,\"diabetes_prevalence\":17.31,\"female_smokers\":0.2,\"male_smokers\":50.1,\"hospital_beds_per_thousand\":1.6,\"life_expectancy\":71.99,\"human_development_index\":0.707,\"Africa\":1.0,\"Asia\":0.0,\"Europe\":0.0,\"North America\":0.0,\"Oceania\":0.0,\"South America\":0.0},\"El Salvador\":{\"new_cases_per_million\":0.0,\"total_deaths_per_million\":669.764,\"new_vaccinations_smoothed\":2370.0,\"people_vaccinated_per_hundred\":73.69,\"total_boosters_per_hundred\":36.3,\"stringency_index\":38.83,\"population_density\":307.811,\"median_age\":27.6,\"aged_65_older\":8.273,\"gdp_per_capita\":7292.458,\"cardiovasc_death_rate\":167.295,\"diabetes_prevalence\":8.87,\"female_smokers\":2.5,\"male_smokers\":18.8,\"hospital_beds_per_thousand\":1.3,\"life_expectancy\":73.32,\"human_development_index\":0.673,\"Africa\":0.0,\"Asia\":0.0,\"Europe\":0.0,\"North America\":1.0,\"Oceania\":0.0,\"South America\":0.0},\"Eswatini\":{\"new_cases_per_million\":0.0,\"total_deaths_per_million\":1192.682,\"new_vaccinations_smoothed\":272.5,\"people_vaccinated_per_hundred\":41.265,\"total_boosters_per_hundred\":12.355,\"stringency_index\":20.37,\"population_density\":79.492,\"median_age\":21.5,\"aged_65_older\":3.163,\"gdp_per_capita\":7738.975,\"cardiovasc_death_rate\":333.436,\"diabetes_prevalence\":3.94,\"female_smokers\":1.7,\"male_smokers\":16.5,\"hospital_beds_per_thousand\":2.1,\"life_expectancy\":60.19,\"human_development_index\":0.611,\"Africa\":1.0,\"Asia\":0.0,\"Europe\":0.0,\"North America\":0.0,\"Oceania\":0.0,\"South America\":0.0},\"Fiji\":{\"new_cases_per_million\":0.0,\"total_deaths_per_million\":949.59,\"new_vaccinations_smoothed\":168.6,\"people_vaccinated_per_hundred\":76.766,\"total_boosters_per_hundred\":17.924,\"stringency_index\":35.474,\"population_density\":49.562,\"median_age\":28.6,\"aged_65_older\":6.224,\"gdp_per_capita\":8702.975,\"cardiovasc_death_rate\":412.82,\"diabetes_prevalence\":14.49,\"female_smokers\":10.2,\"male_smokers\":34.8,\"hospital_beds_per_thousand\":2.3,\"life_expectancy\":67.44,\"human_development_index\":0.743,\"Africa\":0.0,\"Asia\":0.0,\"Europe\":0.0,\"North America\":0.0,\"Oceania\":1.0,\"South America\":0.0},\"Finland\":{\"new_cases_per_million\":0.0,\"total_deaths_per_million\":1055.818,\"new_vaccinations_smoothed\":5335.4,\"people_vaccinated_per_hundred\":81.68,\"total_boosters_per_hundred\":71.02,\"stringency_index\":24.07,\"population_density\":18.136,\"median_age\":42.8,\"aged_65_older\":21.228,\"gdp_per_capita\":40585.721,\"cardiovasc_death_rate\":153.507,\"diabetes_prevalence\":5.76,\"female_smokers\":18.3,\"male_smokers\":22.6,\"hospital_beds_per_thousand\":3.28,\"life_expectancy\":81.91,\"human_development_index\":0.938,\"Africa\":0.0,\"Asia\":0.0,\"Europe\":1.0,\"North America\":0.0,\"Oceania\":0.0,\"South America\":0.0},\"France\":{\"new_cases_per_million\":476.3286470588,\"total_deaths_per_million\":2295.9960588235,\"new_vaccinations_smoothed\":20208.2058823529,\"people_vaccinated_per_hundred\":80.9347058824,\"total_boosters_per_hundred\":64.1511764706,\"stringency_index\":11.11,\"population_density\":122.578,\"median_age\":42.0,\"aged_65_older\":19.718,\"gdp_per_capita\":38605.671,\"cardiovasc_death_rate\":86.06,\"diabetes_prevalence\":4.77,\"female_smokers\":30.1,\"male_smokers\":35.6,\"hospital_beds_per_thousand\":5.98,\"life_expectancy\":82.66,\"human_development_index\":0.901,\"Africa\":0.0,\"Asia\":0.0,\"Europe\":1.0,\"North America\":0.0,\"Oceania\":0.0,\"South America\":0.0},\"Germany\":{\"new_cases_per_million\":482.7695172414,\"total_deaths_per_million\":1784.3097241379,\"new_vaccinations_smoothed\":30067.4827586207,\"people_vaccinated_per_hundred\":77.6620689655,\"total_boosters_per_hundred\":71.0296551724,\"stringency_index\":14.81,\"population_density\":237.016,\"median_age\":46.6,\"aged_65_older\":21.453,\"gdp_per_capita\":45229.245,\"cardiovasc_death_rate\":156.139,\"diabetes_prevalence\":8.31,\"female_smokers\":28.2,\"male_smokers\":33.1,\"hospital_beds_per_thousand\":8.0,\"life_expectancy\":81.33,\"human_development_index\":0.947,\"Africa\":0.0,\"Asia\":0.0,\"Europe\":1.0,\"North America\":0.0,\"Oceania\":0.0,\"South America\":0.0},\"Ghana\":{\"new_cases_per_million\":0.0,\"total_deaths_per_million\":44.437,\"new_vaccinations_smoothed\":23464.6666666667,\"people_vaccinated_per_hundred\":34.9366666667,\"total_boosters_per_hundred\":5.7833333333,\"stringency_index\":34.8666666667,\"population_density\":126.719,\"median_age\":21.1,\"aged_65_older\":3.385,\"gdp_per_capita\":4227.63,\"cardiovasc_death_rate\":298.245,\"diabetes_prevalence\":4.97,\"female_smokers\":0.3,\"male_smokers\":7.7,\"hospital_beds_per_thousand\":0.9,\"life_expectancy\":64.07,\"human_development_index\":0.611,\"Africa\":1.0,\"Asia\":0.0,\"Europe\":0.0,\"North America\":0.0,\"Oceania\":0.0,\"South America\":0.0},\"Greece\":{\"new_cases_per_million\":597.6193823529,\"total_deaths_per_million\":3150.8824117647,\"new_vaccinations_smoothed\":3007.5294117647,\"people_vaccinated_per_hundred\":75.8935294118,\"total_boosters_per_hundred\":61.2144117647,\"stringency_index\":14.81,\"population_density\":83.479,\"median_age\":45.3,\"aged_65_older\":20.396,\"gdp_per_capita\":24574.382,\"cardiovasc_death_rate\":175.695,\"diabetes_prevalence\":4.55,\"female_smokers\":35.3,\"male_smokers\":52.0,\"hospital_beds_per_thousand\":4.21,\"life_expectancy\":82.24,\"human_development_index\":0.888,\"Africa\":0.0,\"Asia\":0.0,\"Europe\":1.0,\"North America\":0.0,\"Oceania\":0.0,\"South America\":0.0},\"Hungary\":{\"new_cases_per_million\":0.0,\"total_deaths_per_million\":4877.107,\"new_vaccinations_smoothed\":null,\"people_vaccinated_per_hundred\":66.0933333333,\"total_boosters_per_hundred\":43.6133333333,\"stringency_index\":5.56,\"population_density\":108.043,\"median_age\":43.4,\"aged_65_older\":18.577,\"gdp_per_capita\":26777.561,\"cardiovasc_death_rate\":278.296,\"diabetes_prevalence\":7.55,\"female_smokers\":26.8,\"male_smokers\":34.8,\"hospital_beds_per_thousand\":7.02,\"life_expectancy\":76.88,\"human_development_index\":0.854,\"Africa\":0.0,\"Asia\":0.0,\"Europe\":1.0,\"North America\":0.0,\"Oceania\":0.0,\"South America\":0.0},\"India\":{\"new_cases_per_million\":3.3841176471,\"total_deaths_per_million\":375.3757352941,\"new_vaccinations_smoothed\":1981475.0588235294,\"people_vaccinated_per_hundred\":72.8726470588,\"total_boosters_per_hundred\":13.5882352941,\"stringency_index\":37.04,\"population_density\":450.419,\"median_age\":28.2,\"aged_65_older\":5.989,\"gdp_per_capita\":6426.674,\"cardiovasc_death_rate\":282.28,\"diabetes_prevalence\":10.39,\"female_smokers\":1.9,\"male_smokers\":20.6,\"hospital_beds_per_thousand\":0.53,\"life_expectancy\":69.66,\"human_development_index\":0.645,\"Africa\":0.0,\"Asia\":1.0,\"Europe\":0.0,\"North America\":0.0,\"Oceania\":0.0,\"South America\":0.0},\"Indonesia\":{\"new_cases_per_million\":6.6165,\"total_deaths_per_million\":577.04075,\"new_vaccinations_smoothed\":85702.5,\"people_vaccinated_per_hundred\":74.535,\"total_boosters_per_hundred\":22.905,\"stringency_index\":29.8,\"population_density\":145.725,\"median_age\":29.3,\"aged_65_older\":5.319,\"gdp_per_capita\":11188.744,\"cardiovasc_death_rate\":342.864,\"diabetes_prevalence\":6.32,\"female_smokers\":2.8,\"male_smokers\":76.1,\"hospital_beds_per_thousand\":1.04,\"life_expectancy\":71.72,\"human_development_index\":0.718,\"Africa\":0.0,\"Asia\":1.0,\"Europe\":0.0,\"North America\":0.0,\"Oceania\":0.0,\"South America\":0.0},\"Iran\":{\"new_cases_per_million\":6.005,\"total_deaths_per_million\":1640.9705,\"new_vaccinations_smoothed\":23280.0,\"people_vaccinated_per_hundred\":73.9575,\"total_boosters_per_hundred\":35.095,\"stringency_index\":53.8925,\"population_density\":49.831,\"median_age\":32.4,\"aged_65_older\":5.44,\"gdp_per_capita\":19082.62,\"cardiovasc_death_rate\":270.308,\"diabetes_prevalence\":9.59,\"female_smokers\":0.8,\"male_smokers\":21.1,\"hospital_beds_per_thousand\":1.5,\"life_expectancy\":76.68,\"human_development_index\":0.783,\"Africa\":0.0,\"Asia\":1.0,\"Europe\":0.0,\"North America\":0.0,\"Oceania\":0.0,\"South America\":0.0},\"Israel\":{\"new_cases_per_million\":104.6660322581,\"total_deaths_per_million\":1256.1132258065,\"new_vaccinations_smoothed\":278.4516129032,\"people_vaccinated_per_hundred\":72.3067741935,\"total_boosters_per_hundred\":57.6429032258,\"stringency_index\":14.81,\"population_density\":402.606,\"median_age\":30.6,\"aged_65_older\":11.733,\"gdp_per_capita\":33132.32,\"cardiovasc_death_rate\":93.32,\"diabetes_prevalence\":6.74,\"female_smokers\":15.4,\"male_smokers\":35.4,\"hospital_beds_per_thousand\":2.99,\"life_expectancy\":82.97,\"human_development_index\":0.919,\"Africa\":0.0,\"Asia\":1.0,\"Europe\":0.0,\"North America\":0.0,\"Oceania\":0.0,\"South America\":0.0},\"Italy\":{\"new_cases_per_million\":345.1581875,\"total_deaths_per_million\":2979.84759375,\"new_vaccinations_smoothed\":14108.875,\"people_vaccinated_per_hundred\":85.8175,\"total_boosters_per_hundred\":73.0934375,\"stringency_index\":14.390625,\"population_density\":205.859,\"median_age\":47.9,\"aged_65_older\":23.021,\"gdp_per_capita\":35220.084,\"cardiovasc_death_rate\":113.151,\"diabetes_prevalence\":4.78,\"female_smokers\":19.8,\"male_smokers\":27.8,\"hospital_beds_per_thousand\":3.18,\"life_expectancy\":83.51,\"human_development_index\":0.892,\"Africa\":0.0,\"Asia\":0.0,\"Europe\":1.0,\"North America\":0.0,\"Oceania\":0.0,\"South America\":0.0},\"Japan\":{\"new_cases_per_million\":551.9213823529,\"total_deaths_per_million\":349.0722058824,\"new_vaccinations_smoothed\":257185.0294117647,\"people_vaccinated_per_hundred\":83.6214705882,\"total_boosters_per_hundred\":92.6097058824,\"stringency_index\":35.4767647059,\"population_density\":347.778,\"median_age\":48.2,\"aged_65_older\":27.049,\"gdp_per_capita\":39002.223,\"cardiovasc_death_rate\":79.37,\"diabetes_prevalence\":5.72,\"female_smokers\":11.2,\"male_smokers\":33.7,\"hospital_beds_per_thousand\":13.05,\"life_expectancy\":84.63,\"human_development_index\":0.919,\"Africa\":0.0,\"Asia\":1.0,\"Europe\":0.0,\"North America\":0.0,\"Oceania\":0.0,\"South America\":0.0},\"Kenya\":{\"new_cases_per_million\":0.044,\"total_deaths_per_million\":107.0513333333,\"new_vaccinations_smoothed\":20557.6666666667,\"people_vaccinated_per_hundred\":25.4866666667,\"total_boosters_per_hundred\":2.96,\"stringency_index\":35.99,\"population_density\":87.324,\"median_age\":20.0,\"aged_65_older\":2.686,\"gdp_per_capita\":2993.028,\"cardiovasc_death_rate\":218.637,\"diabetes_prevalence\":2.92,\"female_smokers\":1.2,\"male_smokers\":20.4,\"hospital_beds_per_thousand\":1.4,\"life_expectancy\":66.7,\"human_development_index\":0.601,\"Africa\":1.0,\"Asia\":0.0,\"Europe\":0.0,\"North America\":0.0,\"Oceania\":0.0,\"South America\":0.0},\"Kiribati\":{\"new_cases_per_million\":0.0,\"total_deaths_per_million\":100.874,\"new_vaccinations_smoothed\":88.0,\"people_vaccinated_per_hundred\":64.23,\"total_boosters_per_hundred\":11.04,\"stringency_index\":11.11,\"population_density\":143.701,\"median_age\":23.2,\"aged_65_older\":3.895,\"gdp_per_capita\":1981.132,\"cardiovasc_death_rate\":434.657,\"diabetes_prevalence\":22.66,\"female_smokers\":35.9,\"male_smokers\":58.9,\"hospital_beds_per_thousand\":1.9,\"life_expectancy\":68.37,\"human_development_index\":0.63,\"Africa\":0.0,\"Asia\":0.0,\"Europe\":0.0,\"North America\":0.0,\"Oceania\":1.0,\"South America\":0.0},\"Kuwait\":{\"new_cases_per_million\":0.0,\"total_deaths_per_million\":603.043,\"new_vaccinations_smoothed\":496.6,\"people_vaccinated_per_hundred\":81.044,\"total_boosters_per_hundred\":33.646,\"stringency_index\":10.0,\"population_density\":232.128,\"median_age\":33.7,\"aged_65_older\":2.345,\"gdp_per_capita\":65530.537,\"cardiovasc_death_rate\":132.235,\"diabetes_prevalence\":15.84,\"female_smokers\":2.7,\"male_smokers\":37.0,\"hospital_beds_per_thousand\":2.0,\"life_expectancy\":75.49,\"human_development_index\":0.806,\"Africa\":0.0,\"Asia\":1.0,\"Europe\":0.0,\"North America\":0.0,\"Oceania\":0.0,\"South America\":0.0},\"Lebanon\":{\"new_cases_per_million\":33.3773333333,\"total_deaths_per_million\":1905.9006666667,\"new_vaccinations_smoothed\":846.0,\"people_vaccinated_per_hundred\":48.7366666667,\"total_boosters_per_hundred\":11.55,\"stringency_index\":41.53,\"population_density\":594.561,\"median_age\":31.1,\"aged_65_older\":8.514,\"gdp_per_capita\":13367.565,\"cardiovasc_death_rate\":266.591,\"diabetes_prevalence\":12.71,\"female_smokers\":26.9,\"male_smokers\":40.7,\"hospital_beds_per_thousand\":2.9,\"life_expectancy\":78.93,\"human_development_index\":0.744,\"Africa\":0.0,\"Asia\":1.0,\"Europe\":0.0,\"North America\":0.0,\"Oceania\":0.0,\"South America\":0.0},\"Liberia\":{\"new_cases_per_million\":0.0,\"total_deaths_per_million\":56.61,\"new_vaccinations_smoothed\":13744.5,\"people_vaccinated_per_hundred\":68.72,\"total_boosters_per_hundred\":0.04,\"stringency_index\":32.12,\"population_density\":49.127,\"median_age\":19.2,\"aged_65_older\":3.057,\"gdp_per_capita\":752.788,\"cardiovasc_death_rate\":272.509,\"diabetes_prevalence\":2.42,\"female_smokers\":1.5,\"male_smokers\":18.1,\"hospital_beds_per_thousand\":0.8,\"life_expectancy\":64.1,\"human_development_index\":0.48,\"Africa\":1.0,\"Asia\":0.0,\"Europe\":0.0,\"North America\":0.0,\"Oceania\":0.0,\"South America\":0.0},\"Lithuania\":{\"new_cases_per_million\":383.0358709677,\"total_deaths_per_million\":3340.0942903226,\"new_vaccinations_smoothed\":154.0322580645,\"people_vaccinated_per_hundred\":70.1567741935,\"total_boosters_per_hundred\":33.7025806452,\"stringency_index\":11.11,\"population_density\":45.135,\"median_age\":43.5,\"aged_65_older\":19.002,\"gdp_per_capita\":29524.265,\"cardiovasc_death_rate\":342.989,\"diabetes_prevalence\":3.67,\"female_smokers\":21.3,\"male_smokers\":38.0,\"hospital_beds_per_thousand\":6.56,\"life_expectancy\":75.93,\"human_development_index\":0.882,\"Africa\":0.0,\"Asia\":0.0,\"Europe\":1.0,\"North America\":0.0,\"Oceania\":0.0,\"South America\":0.0},\"Luxembourg\":{\"new_cases_per_million\":304.66890625,\"total_deaths_per_million\":1761.5858125,\"new_vaccinations_smoothed\":206.96875,\"people_vaccinated_per_hundred\":75.34125,\"total_boosters_per_hundred\":67.4046875,\"stringency_index\":16.47625,\"population_density\":231.447,\"median_age\":39.7,\"aged_65_older\":14.312,\"gdp_per_capita\":94277.965,\"cardiovasc_death_rate\":128.275,\"diabetes_prevalence\":4.42,\"female_smokers\":20.9,\"male_smokers\":26.0,\"hospital_beds_per_thousand\":4.51,\"life_expectancy\":82.25,\"human_development_index\":0.916,\"Africa\":0.0,\"Asia\":0.0,\"Europe\":1.0,\"North America\":0.0,\"Oceania\":0.0,\"South America\":0.0},\"Malawi\":{\"new_cases_per_million\":0.176,\"total_deaths_per_million\":134.6925,\"new_vaccinations_smoothed\":7220.0,\"people_vaccinated_per_hundred\":15.77,\"total_boosters_per_hundred\":0.53,\"stringency_index\":40.74,\"population_density\":197.519,\"median_age\":18.1,\"aged_65_older\":2.979,\"gdp_per_capita\":1095.042,\"cardiovasc_death_rate\":227.349,\"diabetes_prevalence\":3.94,\"female_smokers\":4.4,\"male_smokers\":24.7,\"hospital_beds_per_thousand\":1.3,\"life_expectancy\":64.26,\"human_development_index\":0.483,\"Africa\":1.0,\"Asia\":0.0,\"Europe\":0.0,\"North America\":0.0,\"Oceania\":0.0,\"South America\":0.0},\"Malaysia\":{\"new_cases_per_million\":58.4354193548,\"total_deaths_per_million\":1081.564625,\"new_vaccinations_smoothed\":2534.875,\"people_vaccinated_per_hundred\":83.6978125,\"total_boosters_per_hundred\":49.8046875,\"stringency_index\":35.69,\"population_density\":96.254,\"median_age\":29.9,\"aged_65_older\":6.293,\"gdp_per_capita\":26808.164,\"cardiovasc_death_rate\":260.942,\"diabetes_prevalence\":16.74,\"female_smokers\":1.0,\"male_smokers\":42.4,\"hospital_beds_per_thousand\":1.9,\"life_expectancy\":76.16,\"human_development_index\":0.81,\"Africa\":0.0,\"Asia\":1.0,\"Europe\":0.0,\"North America\":0.0,\"Oceania\":0.0,\"South America\":0.0},\"Malta\":{\"new_cases_per_million\":40.1122580645,\"total_deaths_per_million\":1525.6117419355,\"new_vaccinations_smoothed\":37.7096774194,\"people_vaccinated_per_hundred\":90.7167741935,\"total_boosters_per_hundred\":79.87,\"stringency_index\":11.11,\"population_density\":1454.037,\"median_age\":42.4,\"aged_65_older\":19.426,\"gdp_per_capita\":36513.323,\"cardiovasc_death_rate\":168.711,\"diabetes_prevalence\":8.83,\"female_smokers\":20.9,\"male_smokers\":30.2,\"hospital_beds_per_thousand\":4.485,\"life_expectancy\":82.53,\"human_development_index\":0.895,\"Africa\":0.0,\"Asia\":0.0,\"Europe\":1.0,\"North America\":0.0,\"Oceania\":0.0,\"South America\":0.0},\"Mauritius\":{\"new_cases_per_million\":0.0,\"total_deaths_per_million\":787.965,\"new_vaccinations_smoothed\":530.5,\"people_vaccinated_per_hundred\":78.68,\"total_boosters_per_hundred\":49.045,\"stringency_index\":5.56,\"population_density\":622.962,\"median_age\":37.4,\"aged_65_older\":10.945,\"gdp_per_capita\":20292.745,\"cardiovasc_death_rate\":224.644,\"diabetes_prevalence\":22.02,\"female_smokers\":3.2,\"male_smokers\":40.7,\"hospital_beds_per_thousand\":3.4,\"life_expectancy\":74.99,\"human_development_index\":0.804,\"Africa\":1.0,\"Asia\":0.0,\"Europe\":0.0,\"North America\":0.0,\"Oceania\":0.0,\"South America\":0.0},\"Mexico\":{\"new_cases_per_million\":17.154,\"total_deaths_per_million\":2601.8635,\"new_vaccinations_smoothed\":0.0,\"people_vaccinated_per_hundred\":76.315,\"total_boosters_per_hundred\":44.98,\"stringency_index\":18.515,\"population_density\":66.444,\"median_age\":29.3,\"aged_65_older\":6.857,\"gdp_per_capita\":17336.469,\"cardiovasc_death_rate\":152.783,\"diabetes_prevalence\":13.06,\"female_smokers\":6.9,\"male_smokers\":21.4,\"hospital_beds_per_thousand\":1.38,\"life_expectancy\":75.05,\"human_development_index\":0.779,\"Africa\":0.0,\"Asia\":0.0,\"Europe\":0.0,\"North America\":1.0,\"Oceania\":0.0,\"South America\":0.0},\"Moldova\":{\"new_cases_per_million\":0.0,\"total_deaths_per_million\":3856.925,\"new_vaccinations_smoothed\":448.0,\"people_vaccinated_per_hundred\":35.97,\"total_boosters_per_hundred\":12.1,\"stringency_index\":11.11,\"population_density\":123.655,\"median_age\":37.6,\"aged_65_older\":10.864,\"gdp_per_capita\":5189.972,\"cardiovasc_death_rate\":408.502,\"diabetes_prevalence\":5.72,\"female_smokers\":5.9,\"male_smokers\":44.6,\"hospital_beds_per_thousand\":5.8,\"life_expectancy\":71.9,\"human_development_index\":0.75,\"Africa\":0.0,\"Asia\":0.0,\"Europe\":1.0,\"North America\":0.0,\"Oceania\":0.0,\"South America\":0.0},\"Morocco\":{\"new_cases_per_million\":0.33075,\"total_deaths_per_million\":439.01675,\"new_vaccinations_smoothed\":3113.5,\"people_vaccinated_per_hundred\":67.4275,\"total_boosters_per_hundred\":18.465,\"stringency_index\":27.09,\"population_density\":80.08,\"median_age\":29.6,\"aged_65_older\":6.769,\"gdp_per_capita\":7485.013,\"cardiovasc_death_rate\":419.146,\"diabetes_prevalence\":7.14,\"female_smokers\":0.8,\"male_smokers\":47.1,\"hospital_beds_per_thousand\":1.1,\"life_expectancy\":76.68,\"human_development_index\":0.686,\"Africa\":1.0,\"Asia\":0.0,\"Europe\":0.0,\"North America\":0.0,\"Oceania\":0.0,\"South America\":0.0},\"Mozambique\":{\"new_cases_per_million\":0.1766666667,\"total_deaths_per_million\":69.2496666667,\"new_vaccinations_smoothed\":null,\"people_vaccinated_per_hundred\":41.9633333333,\"total_boosters_per_hundred\":1.8933333333,\"stringency_index\":17.59,\"population_density\":37.728,\"median_age\":17.7,\"aged_65_older\":3.158,\"gdp_per_capita\":1136.103,\"cardiovasc_death_rate\":329.942,\"diabetes_prevalence\":3.3,\"female_smokers\":5.1,\"male_smokers\":29.1,\"hospital_beds_per_thousand\":0.7,\"life_expectancy\":60.85,\"human_development_index\":0.456,\"Africa\":1.0,\"Asia\":0.0,\"Europe\":0.0,\"North America\":0.0,\"Oceania\":0.0,\"South America\":0.0},\"Nepal\":{\"new_cases_per_million\":1.7536666667,\"total_deaths_per_million\":400.0886666667,\"new_vaccinations_smoothed\":83499.6666666667,\"people_vaccinated_per_hundred\":89.96,\"total_boosters_per_hundred\":27.0866666667,\"stringency_index\":22.4833333333,\"population_density\":204.43,\"median_age\":25.0,\"aged_65_older\":5.809,\"gdp_per_capita\":2442.804,\"cardiovasc_death_rate\":260.797,\"diabetes_prevalence\":7.26,\"female_smokers\":9.5,\"male_smokers\":37.8,\"hospital_beds_per_thousand\":0.3,\"life_expectancy\":70.78,\"human_development_index\":0.602,\"Africa\":0.0,\"Asia\":1.0,\"Europe\":0.0,\"North America\":0.0,\"Oceania\":0.0,\"South America\":0.0},\"Netherlands\":{\"new_cases_per_million\":0.0,\"total_deaths_per_million\":1296.56,\"new_vaccinations_smoothed\":1974.0,\"people_vaccinated_per_hundred\":73.0,\"total_boosters_per_hundred\":53.81,\"stringency_index\":15.65,\"population_density\":508.544,\"median_age\":43.2,\"aged_65_older\":18.779,\"gdp_per_capita\":48472.545,\"cardiovasc_death_rate\":109.361,\"diabetes_prevalence\":5.29,\"female_smokers\":24.4,\"male_smokers\":27.3,\"hospital_beds_per_thousand\":3.32,\"life_expectancy\":82.28,\"human_development_index\":0.944,\"Africa\":0.0,\"Asia\":0.0,\"Europe\":1.0,\"North America\":0.0,\"Oceania\":0.0,\"South America\":0.0},\"New Zealand\":{\"new_cases_per_million\":232.2365862069,\"total_deaths_per_million\":383.4307931034,\"new_vaccinations_smoothed\":2958.8275862069,\"people_vaccinated_per_hundred\":83.7720689655,\"total_boosters_per_hundred\":64.5748275862,\"stringency_index\":12.4410344828,\"population_density\":18.206,\"median_age\":37.9,\"aged_65_older\":15.322,\"gdp_per_capita\":36085.843,\"cardiovasc_death_rate\":128.797,\"diabetes_prevalence\":8.08,\"female_smokers\":14.8,\"male_smokers\":17.2,\"hospital_beds_per_thousand\":2.61,\"life_expectancy\":82.29,\"human_development_index\":0.931,\"Africa\":0.0,\"Asia\":0.0,\"Europe\":0.0,\"North America\":0.0,\"Oceania\":1.0,\"South America\":0.0},\"Norway\":{\"new_cases_per_million\":14.0020769231,\"total_deaths_per_million\":746.2137692308,\"new_vaccinations_smoothed\":8250.2692307692,\"people_vaccinated_per_hundred\":80.4253846154,\"total_boosters_per_hundred\":64.2092307692,\"stringency_index\":11.11,\"population_density\":14.462,\"median_age\":39.7,\"aged_65_older\":16.821,\"gdp_per_capita\":64800.057,\"cardiovasc_death_rate\":114.316,\"diabetes_prevalence\":5.31,\"female_smokers\":19.6,\"male_smokers\":20.7,\"hospital_beds_per_thousand\":3.6,\"life_expectancy\":82.4,\"human_development_index\":0.957,\"Africa\":0.0,\"Asia\":0.0,\"Europe\":1.0,\"North America\":0.0,\"Oceania\":0.0,\"South America\":0.0},\"Oman\":{\"new_cases_per_million\":0.0,\"total_deaths_per_million\":1023.787,\"new_vaccinations_smoothed\":278.0,\"people_vaccinated_per_hundred\":72.55,\"total_boosters_per_hundred\":17.28,\"stringency_index\":14.81,\"population_density\":14.98,\"median_age\":30.7,\"aged_65_older\":2.355,\"gdp_per_capita\":37960.709,\"cardiovasc_death_rate\":266.342,\"diabetes_prevalence\":12.61,\"female_smokers\":0.5,\"male_smokers\":15.6,\"hospital_beds_per_thousand\":1.6,\"life_expectancy\":77.86,\"human_development_index\":0.813,\"Africa\":0.0,\"Asia\":1.0,\"Europe\":0.0,\"North America\":0.0,\"Oceania\":0.0,\"South America\":0.0},\"Pakistan\":{\"new_cases_per_million\":0.4058636364,\"total_deaths_per_million\":132.2537727273,\"new_vaccinations_smoothed\":142370.7727272727,\"people_vaccinated_per_hundred\":60.1968181818,\"total_boosters_per_hundred\":18.4945454545,\"stringency_index\":39.8727272727,\"population_density\":255.573,\"median_age\":23.5,\"aged_65_older\":4.495,\"gdp_per_capita\":5034.708,\"cardiovasc_death_rate\":423.031,\"diabetes_prevalence\":8.35,\"female_smokers\":2.8,\"male_smokers\":36.7,\"hospital_beds_per_thousand\":0.6,\"life_expectancy\":67.27,\"human_development_index\":0.557,\"Africa\":0.0,\"Asia\":1.0,\"Europe\":0.0,\"North America\":0.0,\"Oceania\":0.0,\"South America\":0.0},\"Panama\":{\"new_cases_per_million\":0.0,\"total_deaths_per_million\":1948.6276666667,\"new_vaccinations_smoothed\":2402.3333333333,\"people_vaccinated_per_hundred\":80.3966666667,\"total_boosters_per_hundred\":44.4633333333,\"stringency_index\":17.59,\"population_density\":55.133,\"median_age\":29.7,\"aged_65_older\":7.918,\"gdp_per_capita\":22267.037,\"cardiovasc_death_rate\":128.346,\"diabetes_prevalence\":8.33,\"female_smokers\":2.4,\"male_smokers\":9.9,\"hospital_beds_per_thousand\":2.3,\"life_expectancy\":78.51,\"human_development_index\":0.815,\"Africa\":0.0,\"Asia\":0.0,\"Europe\":0.0,\"North America\":1.0,\"Oceania\":0.0,\"South America\":0.0},\"Paraguay\":{\"new_cases_per_million\":66.455,\"total_deaths_per_million\":2915.138,\"new_vaccinations_smoothed\":566.5,\"people_vaccinated_per_hundred\":59.075,\"total_boosters_per_hundred\":28.245,\"stringency_index\":13.89,\"population_density\":17.144,\"median_age\":26.5,\"aged_65_older\":6.378,\"gdp_per_capita\":8827.01,\"cardiovasc_death_rate\":199.128,\"diabetes_prevalence\":8.27,\"female_smokers\":5.0,\"male_smokers\":21.6,\"hospital_beds_per_thousand\":1.3,\"life_expectancy\":74.25,\"human_development_index\":0.728,\"Africa\":0.0,\"Asia\":0.0,\"Europe\":0.0,\"North America\":0.0,\"Oceania\":0.0,\"South America\":1.0},\"Philippines\":{\"new_cases_per_million\":20.75,\"total_deaths_per_million\":548.3766666667,\"new_vaccinations_smoothed\":101796.6666666667,\"people_vaccinated_per_hundred\":68.03,\"total_boosters_per_hundred\":16.5066666667,\"stringency_index\":30.2666666667,\"population_density\":351.873,\"median_age\":25.2,\"aged_65_older\":4.803,\"gdp_per_capita\":7599.188,\"cardiovasc_death_rate\":370.437,\"diabetes_prevalence\":7.07,\"female_smokers\":7.8,\"male_smokers\":40.8,\"hospital_beds_per_thousand\":1.0,\"life_expectancy\":71.23,\"human_development_index\":0.718,\"Africa\":0.0,\"Asia\":1.0,\"Europe\":0.0,\"North America\":0.0,\"Oceania\":0.0,\"South America\":0.0},\"Poland\":{\"new_cases_per_million\":85.19825,\"total_deaths_per_million\":3059.5740833333,\"new_vaccinations_smoothed\":15849.4166666667,\"people_vaccinated_per_hundred\":59.4483333333,\"total_boosters_per_hundred\":35.9941666667,\"stringency_index\":9.26,\"population_density\":124.027,\"median_age\":41.8,\"aged_65_older\":16.763,\"gdp_per_capita\":27216.445,\"cardiovasc_death_rate\":227.331,\"diabetes_prevalence\":5.91,\"female_smokers\":23.3,\"male_smokers\":33.1,\"hospital_beds_per_thousand\":6.62,\"life_expectancy\":78.73,\"human_development_index\":0.88,\"Africa\":0.0,\"Asia\":0.0,\"Europe\":1.0,\"North America\":0.0,\"Oceania\":0.0,\"South America\":0.0},\"Portugal\":{\"new_cases_per_million\":332.9996,\"total_deaths_per_million\":2424.6016,\"new_vaccinations_smoothed\":19707.8,\"people_vaccinated_per_hundred\":94.812,\"total_boosters_per_hundred\":67.098,\"stringency_index\":12.778,\"population_density\":112.371,\"median_age\":46.2,\"aged_65_older\":21.502,\"gdp_per_capita\":27936.896,\"cardiovasc_death_rate\":127.842,\"diabetes_prevalence\":9.85,\"female_smokers\":16.3,\"male_smokers\":30.0,\"hospital_beds_per_thousand\":3.39,\"life_expectancy\":82.05,\"human_development_index\":0.864,\"Africa\":0.0,\"Asia\":0.0,\"Europe\":1.0,\"North America\":0.0,\"Oceania\":0.0,\"South America\":0.0},\"Qatar\":{\"new_cases_per_million\":278.3425,\"total_deaths_per_million\":253.605,\"new_vaccinations_smoothed\":3388.0,\"people_vaccinated_per_hundred\":103.8175,\"total_boosters_per_hundred\":69.5525,\"stringency_index\":15.56,\"population_density\":227.322,\"median_age\":31.9,\"aged_65_older\":1.307,\"gdp_per_capita\":116935.6,\"cardiovasc_death_rate\":176.69,\"diabetes_prevalence\":16.52,\"female_smokers\":0.8,\"male_smokers\":26.9,\"hospital_beds_per_thousand\":1.2,\"life_expectancy\":80.23,\"human_development_index\":0.848,\"Africa\":0.0,\"Asia\":1.0,\"Europe\":0.0,\"North America\":0.0,\"Oceania\":0.0,\"South America\":0.0},\"Russia\":{\"new_cases_per_million\":291.5698666667,\"total_deaths_per_million\":2609.9803333333,\"new_vaccinations_smoothed\":136075.6666666667,\"people_vaccinated_per_hundred\":58.3573333333,\"total_boosters_per_hundred\":12.3173333333,\"stringency_index\":29.7833333333,\"population_density\":8.823,\"median_age\":39.6,\"aged_65_older\":14.178,\"gdp_per_capita\":24765.954,\"cardiovasc_death_rate\":431.297,\"diabetes_prevalence\":6.18,\"female_smokers\":23.4,\"male_smokers\":58.3,\"hospital_beds_per_thousand\":8.05,\"life_expectancy\":72.58,\"human_development_index\":0.824,\"Africa\":0.0,\"Asia\":0.0,\"Europe\":1.0,\"North America\":0.0,\"Oceania\":0.0,\"South America\":0.0},\"Singapore\":{\"new_cases_per_million\":460.3631212121,\"total_deaths_per_million\":294.7566363636,\"new_vaccinations_smoothed\":1314.0303030303,\"people_vaccinated_per_hundred\":94.6257575758,\"total_boosters_per_hundred\":80.7560606061,\"stringency_index\":18.2718181818,\"population_density\":7915.731,\"median_age\":42.4,\"aged_65_older\":12.922,\"gdp_per_capita\":85535.383,\"cardiovasc_death_rate\":92.243,\"diabetes_prevalence\":10.99,\"female_smokers\":5.2,\"male_smokers\":28.3,\"hospital_beds_per_thousand\":2.4,\"life_expectancy\":83.62,\"human_development_index\":0.938,\"Africa\":0.0,\"Asia\":1.0,\"Europe\":0.0,\"North America\":0.0,\"Oceania\":0.0,\"South America\":0.0},\"South Africa\":{\"new_cases_per_million\":4.2928666667,\"total_deaths_per_million\":1719.8669,\"new_vaccinations_smoothed\":6114.0,\"people_vaccinated_per_hundred\":37.5473333333,\"total_boosters_per_hundred\":6.258,\"stringency_index\":11.11,\"population_density\":46.754,\"median_age\":27.3,\"aged_65_older\":5.344,\"gdp_per_capita\":12294.876,\"cardiovasc_death_rate\":200.38,\"diabetes_prevalence\":5.52,\"female_smokers\":8.1,\"male_smokers\":33.2,\"hospital_beds_per_thousand\":2.32,\"life_expectancy\":64.13,\"human_development_index\":0.709,\"Africa\":1.0,\"Asia\":0.0,\"Europe\":0.0,\"North America\":0.0,\"Oceania\":0.0,\"South America\":0.0},\"South Korea\":{\"new_cases_per_million\":847.8328823529,\"total_deaths_per_million\":537.7872352941,\"new_vaccinations_smoothed\":11200.1764705882,\"people_vaccinated_per_hundred\":87.0367647059,\"total_boosters_per_hundred\":79.0044117647,\"stringency_index\":13.4811764706,\"population_density\":527.967,\"median_age\":43.4,\"aged_65_older\":13.914,\"gdp_per_capita\":35938.374,\"cardiovasc_death_rate\":85.998,\"diabetes_prevalence\":6.8,\"female_smokers\":6.2,\"male_smokers\":40.9,\"hospital_beds_per_thousand\":12.27,\"life_expectancy\":83.03,\"human_development_index\":0.916,\"Africa\":0.0,\"Asia\":1.0,\"Europe\":0.0,\"North America\":0.0,\"Oceania\":0.0,\"South America\":0.0},\"Spain\":{\"new_cases_per_million\":1.88475,\"total_deaths_per_million\":2390.8205,\"new_vaccinations_smoothed\":3797.25,\"people_vaccinated_per_hundred\":86.9775,\"total_boosters_per_hundred\":54.6625,\"stringency_index\":13.89,\"population_density\":93.105,\"median_age\":45.5,\"aged_65_older\":19.436,\"gdp_per_capita\":34272.36,\"cardiovasc_death_rate\":99.403,\"diabetes_prevalence\":7.17,\"female_smokers\":27.4,\"male_smokers\":31.4,\"hospital_beds_per_thousand\":2.97,\"life_expectancy\":83.56,\"human_development_index\":0.904,\"Africa\":0.0,\"Asia\":0.0,\"Europe\":1.0,\"North America\":0.0,\"Oceania\":0.0,\"South America\":0.0},\"Sri Lanka\":{\"new_cases_per_million\":0.8723333333,\"total_deaths_per_million\":768.9796666667,\"new_vaccinations_smoothed\":6389.3333333333,\"people_vaccinated_per_hundred\":78.6466666667,\"total_boosters_per_hundred\":37.54,\"stringency_index\":30.5366666667,\"population_density\":341.955,\"median_age\":34.1,\"aged_65_older\":10.069,\"gdp_per_capita\":11669.077,\"cardiovasc_death_rate\":197.093,\"diabetes_prevalence\":10.68,\"female_smokers\":0.3,\"male_smokers\":27.0,\"hospital_beds_per_thousand\":3.6,\"life_expectancy\":76.98,\"human_development_index\":0.782,\"Africa\":0.0,\"Asia\":1.0,\"Europe\":0.0,\"North America\":0.0,\"Oceania\":0.0,\"South America\":0.0},\"Switzerland\":{\"new_cases_per_million\":233.8735172414,\"total_deaths_per_million\":1609.9969655172,\"new_vaccinations_smoothed\":1351.4482758621,\"people_vaccinated_per_hundred\":70.0986206897,\"total_boosters_per_hundred\":46.2606896552,\"stringency_index\":5.56,\"population_density\":214.243,\"median_age\":43.1,\"aged_65_older\":18.436,\"gdp_per_capita\":57410.166,\"cardiovasc_death_rate\":99.739,\"diabetes_prevalence\":5.59,\"female_smokers\":22.6,\"male_smokers\":28.9,\"hospital_beds_per_thousand\":4.53,\"life_expectancy\":83.78,\"human_development_index\":0.955,\"Africa\":0.0,\"Asia\":0.0,\"Europe\":1.0,\"North America\":0.0,\"Oceania\":0.0,\"South America\":0.0},\"Thailand\":{\"new_cases_per_million\":13.0815172414,\"total_deaths_per_million\":455.3657586207,\"new_vaccinations_smoothed\":20304.0,\"people_vaccinated_per_hundred\":79.5768965517,\"total_boosters_per_hundred\":44.5972413793,\"stringency_index\":29.63,\"population_density\":135.132,\"median_age\":40.1,\"aged_65_older\":11.373,\"gdp_per_capita\":16277.671,\"cardiovasc_death_rate\":109.861,\"diabetes_prevalence\":7.04,\"female_smokers\":1.9,\"male_smokers\":38.8,\"hospital_beds_per_thousand\":2.1,\"life_expectancy\":77.15,\"human_development_index\":0.777,\"Africa\":0.0,\"Asia\":1.0,\"Europe\":0.0,\"North America\":0.0,\"Oceania\":0.0,\"South America\":0.0},\"Timor\":{\"new_cases_per_million\":3.785,\"total_deaths_per_million\":104.471,\"new_vaccinations_smoothed\":899.0,\"people_vaccinated_per_hundred\":64.41,\"total_boosters_per_hundred\":15.675,\"stringency_index\":13.89,\"population_density\":87.176,\"median_age\":18.0,\"aged_65_older\":3.556,\"gdp_per_capita\":6570.102,\"cardiovasc_death_rate\":335.346,\"diabetes_prevalence\":6.86,\"female_smokers\":6.3,\"male_smokers\":78.1,\"hospital_beds_per_thousand\":5.9,\"life_expectancy\":69.5,\"human_development_index\":0.606,\"Africa\":0.0,\"Asia\":1.0,\"Europe\":0.0,\"North America\":0.0,\"Oceania\":0.0,\"South America\":0.0},\"Togo\":{\"new_cases_per_million\":3.008,\"total_deaths_per_million\":32.968,\"new_vaccinations_smoothed\":387.0,\"people_vaccinated_per_hundred\":25.09,\"total_boosters_per_hundred\":1.56,\"stringency_index\":39.35,\"population_density\":143.366,\"median_age\":19.4,\"aged_65_older\":2.839,\"gdp_per_capita\":1429.813,\"cardiovasc_death_rate\":280.033,\"diabetes_prevalence\":6.15,\"female_smokers\":0.9,\"male_smokers\":14.2,\"hospital_beds_per_thousand\":0.7,\"life_expectancy\":61.04,\"human_development_index\":0.515,\"Africa\":1.0,\"Asia\":0.0,\"Europe\":0.0,\"North America\":0.0,\"Oceania\":0.0,\"South America\":0.0},\"Turkey\":{\"new_cases_per_million\":70.0622647059,\"total_deaths_per_million\":1191.5931176471,\"new_vaccinations_smoothed\":10028.7058823529,\"people_vaccinated_per_hundred\":68.3261764706,\"total_boosters_per_hundred\":48.5173529412,\"stringency_index\":11.11,\"population_density\":104.914,\"median_age\":31.6,\"aged_65_older\":8.153,\"gdp_per_capita\":25129.341,\"cardiovasc_death_rate\":171.285,\"diabetes_prevalence\":12.13,\"female_smokers\":14.1,\"male_smokers\":41.1,\"hospital_beds_per_thousand\":2.81,\"life_expectancy\":77.69,\"human_development_index\":0.82,\"Africa\":0.0,\"Asia\":1.0,\"Europe\":0.0,\"North America\":0.0,\"Oceania\":0.0,\"South America\":0.0},\"Uganda\":{\"new_cases_per_million\":0.0,\"total_deaths_per_million\":79.143,\"new_vaccinations_smoothed\":10488.5,\"people_vaccinated_per_hundred\":40.315,\"total_boosters_per_hundred\":0.905,\"stringency_index\":13.89,\"population_density\":213.759,\"median_age\":16.4,\"aged_65_older\":2.168,\"gdp_per_capita\":1697.707,\"cardiovasc_death_rate\":213.333,\"diabetes_prevalence\":2.5,\"female_smokers\":3.4,\"male_smokers\":16.7,\"hospital_beds_per_thousand\":0.5,\"life_expectancy\":63.37,\"human_development_index\":0.544,\"Africa\":1.0,\"Asia\":0.0,\"Europe\":0.0,\"North America\":0.0,\"Oceania\":0.0,\"South America\":0.0},\"United Kingdom\":{\"new_cases_per_million\":0.0,\"total_deaths_per_million\":3074.1253333333,\"new_vaccinations_smoothed\":11100.6666666667,\"people_vaccinated_per_hundred\":79.97,\"total_boosters_per_hundred\":60.0066666667,\"stringency_index\":5.56,\"population_density\":272.898,\"median_age\":40.8,\"aged_65_older\":18.517,\"gdp_per_capita\":39753.244,\"cardiovasc_death_rate\":122.137,\"diabetes_prevalence\":4.28,\"female_smokers\":20.0,\"male_smokers\":24.7,\"hospital_beds_per_thousand\":2.54,\"life_expectancy\":81.32,\"human_development_index\":0.932,\"Africa\":0.0,\"Asia\":0.0,\"Europe\":1.0,\"North America\":0.0,\"Oceania\":0.0,\"South America\":0.0},\"United States\":{\"new_cases_per_million\":162.9617575758,\"total_deaths_per_million\":3127.8083030303,\"new_vaccinations_smoothed\":382441.8181818182,\"people_vaccinated_per_hundred\":79.4715151515,\"total_boosters_per_hundred\":40.1254545455,\"stringency_index\":25.736969697,\"population_density\":35.608,\"median_age\":38.3,\"aged_65_older\":15.413,\"gdp_per_capita\":54225.446,\"cardiovasc_death_rate\":151.089,\"diabetes_prevalence\":10.79,\"female_smokers\":19.1,\"male_smokers\":24.6,\"hospital_beds_per_thousand\":2.77,\"life_expectancy\":78.86,\"human_development_index\":0.926,\"Africa\":0.0,\"Asia\":0.0,\"Europe\":0.0,\"North America\":1.0,\"Oceania\":0.0,\"South America\":0.0},\"Uruguay\":{\"new_cases_per_million\":73.914375,\"total_deaths_per_million\":2175.11225,\"new_vaccinations_smoothed\":436.25,\"people_vaccinated_per_hundred\":87.58125,\"total_boosters_per_hundred\":82.83875,\"stringency_index\":13.89,\"population_density\":19.751,\"median_age\":35.6,\"aged_65_older\":14.655,\"gdp_per_capita\":20551.409,\"cardiovasc_death_rate\":160.708,\"diabetes_prevalence\":6.93,\"female_smokers\":14.0,\"male_smokers\":19.9,\"hospital_beds_per_thousand\":2.8,\"life_expectancy\":77.91,\"human_development_index\":0.817,\"Africa\":0.0,\"Asia\":0.0,\"Europe\":0.0,\"North America\":0.0,\"Oceania\":0.0,\"South America\":1.0},\"Uzbekistan\":{\"new_cases_per_million\":0.0,\"total_deaths_per_million\":48.032,\"new_vaccinations_smoothed\":122452.0,\"people_vaccinated_per_hundred\":61.77,\"total_boosters_per_hundred\":39.07,\"stringency_index\":5.56,\"population_density\":76.134,\"median_age\":28.2,\"aged_65_older\":4.469,\"gdp_per_capita\":6253.104,\"cardiovasc_death_rate\":724.417,\"diabetes_prevalence\":7.57,\"female_smokers\":1.3,\"male_smokers\":24.7,\"hospital_beds_per_thousand\":4.0,\"life_expectancy\":71.72,\"human_development_index\":0.72,\"Africa\":0.0,\"Asia\":1.0,\"Europe\":0.0,\"North America\":0.0,\"Oceania\":0.0,\"South America\":0.0},\"Vietnam\":{\"new_cases_per_million\":32.739,\"total_deaths_per_million\":442.463,\"new_vaccinations_smoothed\":124572.0,\"people_vaccinated_per_hundred\":92.09,\"total_boosters_per_hundred\":71.62,\"stringency_index\":25.93,\"population_density\":308.127,\"median_age\":32.6,\"aged_65_older\":7.15,\"gdp_per_capita\":6171.884,\"cardiovasc_death_rate\":245.465,\"diabetes_prevalence\":6.0,\"female_smokers\":1.0,\"male_smokers\":45.9,\"hospital_beds_per_thousand\":2.6,\"life_expectancy\":75.4,\"human_development_index\":0.704,\"Africa\":0.0,\"Asia\":1.0,\"Europe\":0.0,\"North America\":0.0,\"Oceania\":0.0,\"South America\":0.0},\"Zimbabwe\":{\"new_cases_per_million\":1.757,\"total_deaths_per_million\":350.1105,\"new_vaccinations_smoothed\":2864.3,\"people_vaccinated_per_hundred\":40.186,\"total_boosters_per_hundred\":6.398,\"stringency_index\":52.61,\"population_density\":42.729,\"median_age\":19.6,\"aged_65_older\":2.822,\"gdp_per_capita\":1899.775,\"cardiovasc_death_rate\":307.846,\"diabetes_prevalence\":1.82,\"female_smokers\":1.6,\"male_smokers\":30.7,\"hospital_beds_per_thousand\":1.7,\"life_expectancy\":61.49,\"human_development_index\":0.571,\"Africa\":1.0,\"Asia\":0.0,\"Europe\":0.0,\"North America\":0.0,\"Oceania\":0.0,\"South America\":0.0}}'"
      ]
     },
     "execution_count": 193,
     "metadata": {},
     "output_type": "execute_result"
    }
   ],
   "source": [
    "#json, 'people_vaccinated_per_hundred',\n",
    "#    'total_boosters_per_hundred', 'stringency_index', 'population_density',\n",
    "#    'median_age', 'aged_65_older', 'gdp_per_capita', 'male_smokers',\n",
    "#    'hospital_beds_per_thousand', 'life_expectancy', 'human_development_index', \n",
    "\n",
    "equal_weighted_country_df.to_json(orient='index')"
   ]
  },
  {
   "cell_type": "code",
   "execution_count": 196,
   "id": "54f23976",
   "metadata": {},
   "outputs": [
    {
     "data": {
      "text/plain": [
       "'{\"new_vaccinations_smoothed\":{\"90th Percentile\":122664.0},\"people_vaccinated_per_hundred\":{\"90th Percentile\":91.1729174194},\"total_boosters_per_hundred\":{\"90th Percentile\":72.94609375},\"stringency_index\":{\"90th Percentile\":39.298},\"population_density\":{\"90th Percentile\":445.6377},\"median_age\":{\"90th Percentile\":43.4},\"aged_65_older\":{\"90th Percentile\":19.435},\"gdp_per_capita\":{\"90th Percentile\":48293.542},\"male_smokers\":{\"90th Percentile\":47.0},\"hospital_beds_per_thousand\":{\"90th Percentile\":6.614},\"life_expectancy\":{\"90th Percentile\":82.647},\"human_development_index\":{\"90th Percentile\":0.9319},\"new_cases_per_million\":{\"90th Percentile\":379.248102621}}'"
      ]
     },
     "execution_count": 196,
     "metadata": {},
     "output_type": "execute_result"
    }
   ],
   "source": [
    "percentile_df.to_json(orient='index')"
   ]
  },
  {
   "cell_type": "code",
   "execution_count": null,
   "id": "93a1a4dc",
   "metadata": {},
   "outputs": [],
   "source": []
  }
 ],
 "metadata": {
  "kernelspec": {
   "display_name": "Python 3.10.6 64-bit",
   "language": "python",
   "name": "python3"
  },
  "language_info": {
   "codemirror_mode": {
    "name": "ipython",
    "version": 3
   },
   "file_extension": ".py",
   "mimetype": "text/x-python",
   "name": "python",
   "nbconvert_exporter": "python",
   "pygments_lexer": "ipython3",
   "version": "3.10.6"
  },
  "vscode": {
   "interpreter": {
    "hash": "916dbcbb3f70747c44a77c7bcd40155683ae19c65e1c03b4aa3499c5328201f1"
   }
  }
 },
 "nbformat": 4,
 "nbformat_minor": 5
}
